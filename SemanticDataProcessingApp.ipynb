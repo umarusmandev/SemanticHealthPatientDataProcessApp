{
  "nbformat": 4,
  "nbformat_minor": 0,
  "metadata": {
    "colab": {
      "name": "SemanticDataProcessingApp.ipynb",
      "provenance": [],
      "collapsed_sections": [],
      "authorship_tag": "ABX9TyNWHiHc8fpdWSv0nuQRCgyS",
      "include_colab_link": true
    },
    "kernelspec": {
      "display_name": "Python 3",
      "name": "python3"
    },
    "language_info": {
      "name": "python"
    }
  },
  "cells": [
    {
      "cell_type": "markdown",
      "metadata": {
        "id": "view-in-github",
        "colab_type": "text"
      },
      "source": [
        "<a href=\"https://colab.research.google.com/github/umarusmandev/SemanticHealthPatientDataProcessApp/blob/main/SemanticDataProcessingApp.ipynb\" target=\"_parent\"><img src=\"https://colab.research.google.com/assets/colab-badge.svg\" alt=\"Open In Colab\"/></a>"
      ]
    },
    {
      "cell_type": "code",
      "metadata": {
        "colab": {
          "base_uri": "https://localhost:8080/",
          "height": 1000
        },
        "id": "BRKaX0ZggaAl",
        "outputId": "5398b6c3-ed7c-4e00-f351-4c3eb7f5030d"
      },
      "source": [
        "!pip install -I flask-ngrok\n",
        "!pip install -I pandas==0.25\n",
        "!pip install -I pandas-profiling\n",
        "!pip install -I Flask-WTF"
      ],
      "execution_count": 2,
      "outputs": [
        {
          "output_type": "stream",
          "text": [
            "Collecting flask-ngrok\n",
            "  Using cached https://files.pythonhosted.org/packages/af/6c/f54cb686ad1129e27d125d182f90f52b32f284e6c8df58c1bae54fa1adbc/flask_ngrok-0.0.25-py3-none-any.whl\n",
            "Collecting Flask>=0.8\n",
            "  Using cached https://files.pythonhosted.org/packages/54/4f/1b294c1a4ab7b2ad5ca5fc4a9a65a22ef1ac48be126289d97668852d4ab3/Flask-2.0.1-py3-none-any.whl\n",
            "Collecting requests\n",
            "  Using cached https://files.pythonhosted.org/packages/29/c1/24814557f1d22c56d50280771a17307e6bf87b70727d975fd6b2ce6b014a/requests-2.25.1-py2.py3-none-any.whl\n",
            "Collecting click>=7.1.2\n",
            "  Using cached https://files.pythonhosted.org/packages/76/0a/b6c5f311e32aeb3b406e03c079ade51e905ea630fc19d1262a46249c1c86/click-8.0.1-py3-none-any.whl\n",
            "Collecting Werkzeug>=2.0\n",
            "  Using cached https://files.pythonhosted.org/packages/bd/24/11c3ea5a7e866bf2d97f0501d0b4b1c9bbeade102bb4b588f0d2919a5212/Werkzeug-2.0.1-py3-none-any.whl\n",
            "Collecting itsdangerous>=2.0\n",
            "  Using cached https://files.pythonhosted.org/packages/9c/96/26f935afba9cd6140216da5add223a0c465b99d0f112b68a4ca426441019/itsdangerous-2.0.1-py3-none-any.whl\n",
            "Collecting Jinja2>=3.0\n",
            "  Using cached https://files.pythonhosted.org/packages/80/21/ae597efc7ed8caaa43fb35062288baaf99a7d43ff0cf66452ddf47604ee6/Jinja2-3.0.1-py3-none-any.whl\n",
            "Collecting certifi>=2017.4.17\n",
            "  Using cached https://files.pythonhosted.org/packages/05/1b/0a0dece0e8aa492a6ec9e4ad2fe366b511558cdc73fd3abc82ba7348e875/certifi-2021.5.30-py2.py3-none-any.whl\n",
            "Collecting urllib3<1.27,>=1.21.1\n",
            "  Using cached https://files.pythonhosted.org/packages/0c/cd/1e2ec680ec7b09846dc6e605f5a7709dfb9d7128e51a026e7154e18a234e/urllib3-1.26.5-py2.py3-none-any.whl\n",
            "Collecting idna<3,>=2.5\n",
            "  Using cached https://files.pythonhosted.org/packages/a2/38/928ddce2273eaa564f6f50de919327bf3a00f091b5baba8dfa9460f3a8a8/idna-2.10-py2.py3-none-any.whl\n",
            "Collecting chardet<5,>=3.0.2\n",
            "  Using cached https://files.pythonhosted.org/packages/19/c7/fa589626997dd07bd87d9269342ccb74b1720384a4d739a1872bd84fbe68/chardet-4.0.0-py2.py3-none-any.whl\n",
            "Collecting importlib-metadata; python_version < \"3.8\"\n",
            "  Using cached https://files.pythonhosted.org/packages/23/5d/f2151217058e7d5c5b4b584bc6052c2ae478c5a36b58a056364351613bfb/importlib_metadata-4.5.0-py3-none-any.whl\n",
            "Collecting MarkupSafe>=2.0\n",
            "  Using cached https://files.pythonhosted.org/packages/ad/cd/650b1be2a81674939ef962b1f1b956e4a84116d69708c842667445e95408/MarkupSafe-2.0.1-cp37-cp37m-manylinux2010_x86_64.whl\n",
            "Collecting typing-extensions>=3.6.4; python_version < \"3.8\"\n",
            "  Using cached https://files.pythonhosted.org/packages/2e/35/6c4fff5ab443b57116cb1aad46421fb719bed2825664e8fe77d66d99bcbc/typing_extensions-3.10.0.0-py3-none-any.whl\n",
            "Collecting zipp>=0.5\n",
            "  Using cached https://files.pythonhosted.org/packages/0f/8c/715c54e9e34c0c4820f616a913a7de3337d0cd79074dd1bed4dd840f16ae/zipp-3.4.1-py3-none-any.whl\n",
            "\u001b[31mERROR: tensorflow 2.5.0 has requirement numpy~=1.19.2, but you'll have numpy 1.21.0 which is incompatible.\u001b[0m\n",
            "\u001b[31mERROR: tensorflow 2.5.0 has requirement six~=1.15.0, but you'll have six 1.16.0 which is incompatible.\u001b[0m\n",
            "\u001b[31mERROR: tensorflow 2.5.0 has requirement typing-extensions~=3.7.4, but you'll have typing-extensions 3.10.0.0 which is incompatible.\u001b[0m\n",
            "\u001b[31mERROR: google-colab 1.0.0 has requirement pandas~=1.1.0; python_version >= \"3.0\", but you'll have pandas 1.2.5 which is incompatible.\u001b[0m\n",
            "\u001b[31mERROR: google-colab 1.0.0 has requirement requests~=2.23.0, but you'll have requests 2.25.1 which is incompatible.\u001b[0m\n",
            "\u001b[31mERROR: google-colab 1.0.0 has requirement six~=1.15.0, but you'll have six 1.16.0 which is incompatible.\u001b[0m\n",
            "\u001b[31mERROR: datascience 0.10.6 has requirement folium==0.2.1, but you'll have folium 0.8.3 which is incompatible.\u001b[0m\n",
            "Installing collected packages: typing-extensions, zipp, importlib-metadata, click, Werkzeug, itsdangerous, MarkupSafe, Jinja2, Flask, certifi, urllib3, idna, chardet, requests, flask-ngrok\n",
            "Successfully installed Flask-2.0.1 Jinja2-3.0.1 MarkupSafe-2.0.1 Werkzeug-2.0.1 certifi-2021.5.30 chardet-4.0.0 click-8.0.1 flask-ngrok-0.0.25 idna-2.10 importlib-metadata-4.5.0 itsdangerous-2.0.1 requests-2.25.1 typing-extensions-3.10.0.0 urllib3-1.26.5 zipp-3.4.1\n"
          ],
          "name": "stdout"
        },
        {
          "output_type": "display_data",
          "data": {
            "application/vnd.colab-display-data+json": {
              "pip_warning": {
                "packages": [
                  "certifi",
                  "chardet",
                  "flask_ngrok",
                  "idna",
                  "requests",
                  "urllib3"
                ]
              }
            }
          },
          "metadata": {
            "tags": []
          }
        },
        {
          "output_type": "stream",
          "text": [
            "Collecting pandas==0.25\n",
            "  Using cached https://files.pythonhosted.org/packages/3b/42/dc1f4820b95fbdbc9352ec9ad0f0c40db2122e1f2440ea53c7f9fbccf2b8/pandas-0.25.0-cp37-cp37m-manylinux1_x86_64.whl\n",
            "Collecting numpy>=1.13.3\n",
            "  Using cached https://files.pythonhosted.org/packages/3f/03/c3526fb4e79a793498829ca570f2f868204ad9a8040afcd72d82a8f121db/numpy-1.21.0-cp37-cp37m-manylinux_2_12_x86_64.manylinux2010_x86_64.whl\n",
            "Collecting python-dateutil>=2.6.1\n",
            "  Using cached https://files.pythonhosted.org/packages/d4/70/d60450c3dd48ef87586924207ae8907090de0b306af2bce5d134d78615cb/python_dateutil-2.8.1-py2.py3-none-any.whl\n",
            "Collecting pytz>=2017.2\n",
            "  Using cached https://files.pythonhosted.org/packages/70/94/784178ca5dd892a98f113cdd923372024dc04b8d40abe77ca76b5fb90ca6/pytz-2021.1-py2.py3-none-any.whl\n",
            "Collecting six>=1.5\n",
            "  Using cached https://files.pythonhosted.org/packages/d9/5a/e7c31adbe875f2abbb91bd84cf2dc52d792b5a01506781dbcf25c91daf11/six-1.16.0-py2.py3-none-any.whl\n",
            "\u001b[31mERROR: xarray 0.18.2 has requirement pandas>=1.0, but you'll have pandas 0.25.0 which is incompatible.\u001b[0m\n",
            "\u001b[31mERROR: visions 0.7.1 has requirement pandas>=0.25.3, but you'll have pandas 0.25.0 which is incompatible.\u001b[0m\n",
            "\u001b[31mERROR: tensorflow 2.5.0 has requirement numpy~=1.19.2, but you'll have numpy 1.21.0 which is incompatible.\u001b[0m\n",
            "\u001b[31mERROR: tensorflow 2.5.0 has requirement six~=1.15.0, but you'll have six 1.16.0 which is incompatible.\u001b[0m\n",
            "\u001b[31mERROR: tensorflow 2.5.0 has requirement typing-extensions~=3.7.4, but you'll have typing-extensions 3.10.0.0 which is incompatible.\u001b[0m\n",
            "\u001b[31mERROR: phik 0.11.2 has requirement pandas>=0.25.1, but you'll have pandas 0.25.0 which is incompatible.\u001b[0m\n",
            "\u001b[31mERROR: pandas-profiling 3.0.0 has requirement pandas!=1.0.0,!=1.0.1,!=1.0.2,!=1.1.0,>=0.25.3, but you'll have pandas 0.25.0 which is incompatible.\u001b[0m\n",
            "\u001b[31mERROR: google-colab 1.0.0 has requirement pandas~=1.1.0; python_version >= \"3.0\", but you'll have pandas 0.25.0 which is incompatible.\u001b[0m\n",
            "\u001b[31mERROR: google-colab 1.0.0 has requirement requests~=2.23.0, but you'll have requests 2.25.1 which is incompatible.\u001b[0m\n",
            "\u001b[31mERROR: google-colab 1.0.0 has requirement six~=1.15.0, but you'll have six 1.16.0 which is incompatible.\u001b[0m\n",
            "\u001b[31mERROR: fbprophet 0.7.1 has requirement pandas>=1.0.4, but you'll have pandas 0.25.0 which is incompatible.\u001b[0m\n",
            "\u001b[31mERROR: datascience 0.10.6 has requirement folium==0.2.1, but you'll have folium 0.8.3 which is incompatible.\u001b[0m\n",
            "\u001b[31mERROR: albumentations 0.1.12 has requirement imgaug<0.2.7,>=0.2.5, but you'll have imgaug 0.2.9 which is incompatible.\u001b[0m\n",
            "Installing collected packages: numpy, six, python-dateutil, pytz, pandas\n",
            "Successfully installed numpy-1.21.0 pandas-1.2.5 python-dateutil-2.8.1 pytz-2021.1 six-1.16.0\n"
          ],
          "name": "stdout"
        },
        {
          "output_type": "display_data",
          "data": {
            "application/vnd.colab-display-data+json": {
              "pip_warning": {
                "packages": [
                  "dateutil",
                  "numpy",
                  "pandas",
                  "pytz",
                  "six"
                ]
              }
            }
          },
          "metadata": {
            "tags": []
          }
        },
        {
          "output_type": "stream",
          "text": [
            "Collecting pandas-profiling\n",
            "  Using cached https://files.pythonhosted.org/packages/3b/a3/34519d16e5ebe69bad30c5526deea2c3912634ced7f9b5e6e0bb9dbbd567/pandas_profiling-3.0.0-py2.py3-none-any.whl\n",
            "Collecting scipy>=1.4.1\n",
            "  Using cached https://files.pythonhosted.org/packages/b2/85/b00f13b52d079b5625e1a12330fc6453c947a482ff667a907c7bc60ed220/scipy-1.7.0-cp37-cp37m-manylinux_2_5_x86_64.manylinux1_x86_64.whl\n",
            "Collecting pandas!=1.0.0,!=1.0.1,!=1.0.2,!=1.1.0,>=0.25.3\n",
            "  Using cached https://files.pythonhosted.org/packages/e6/0a/90da8840e044c329a0271fb0244ff40a68a2615bc360c296a3dc5e326ab6/pandas-1.2.5-cp37-cp37m-manylinux_2_5_x86_64.manylinux1_x86_64.whl\n",
            "Processing /root/.cache/pip/wheels/c0/a3/b0/f27b1cfe32ea131a3715169132ff6d85653789e80e966c3bf6/phik-0.11.2-cp37-none-any.whl\n",
            "Collecting missingno>=0.4.2\n",
            "  Using cached https://files.pythonhosted.org/packages/2b/de/6e4dd6d720c49939544352155dc06a08c9f7e4271aa631a559dfbeaaf9d4/missingno-0.4.2-py3-none-any.whl\n",
            "Collecting visions[type_image_path]==0.7.1\n",
            "  Using cached https://files.pythonhosted.org/packages/80/96/01e4ba22cef96ae5035dbcf0451c2f4f859f8f17393b98406b23f0034279/visions-0.7.1-py3-none-any.whl\n",
            "Collecting tangled-up-in-unicode==0.1.0\n",
            "  Using cached https://files.pythonhosted.org/packages/93/3e/cb354fb2097fcf2fd5b5a342b10ae2a6e9363ba435b64e3e00c414064bc7/tangled_up_in_unicode-0.1.0-py3-none-any.whl\n",
            "Collecting requests>=2.24.0\n",
            "  Using cached https://files.pythonhosted.org/packages/29/c1/24814557f1d22c56d50280771a17307e6bf87b70727d975fd6b2ce6b014a/requests-2.25.1-py2.py3-none-any.whl\n",
            "Collecting pydantic>=1.8.1\n",
            "  Using cached https://files.pythonhosted.org/packages/9f/f2/2d5425efe57f6c4e06cbe5e587c1fd16929dcf0eb90bd4d3d1e1c97d1151/pydantic-1.8.2-cp37-cp37m-manylinux2014_x86_64.whl\n",
            "Collecting jinja2>=2.11.1\n",
            "  Using cached https://files.pythonhosted.org/packages/80/21/ae597efc7ed8caaa43fb35062288baaf99a7d43ff0cf66452ddf47604ee6/Jinja2-3.0.1-py3-none-any.whl\n",
            "Collecting joblib\n",
            "  Using cached https://files.pythonhosted.org/packages/55/85/70c6602b078bd9e6f3da4f467047e906525c355a4dacd4f71b97a35d9897/joblib-1.0.1-py3-none-any.whl\n",
            "Collecting tqdm>=4.48.2\n",
            "  Using cached https://files.pythonhosted.org/packages/b4/20/9f1e974bb4761128fc0d0a32813eaa92827309b1756c4b892d28adfb4415/tqdm-4.61.1-py2.py3-none-any.whl\n",
            "Collecting PyYAML>=5.0.0\n",
            "  Using cached https://files.pythonhosted.org/packages/7a/a5/393c087efdc78091afa2af9f1378762f9821c9c1d7a22c5753fb5ac5f97a/PyYAML-5.4.1-cp37-cp37m-manylinux1_x86_64.whl\n",
            "Collecting seaborn>=0.10.1\n",
            "  Using cached https://files.pythonhosted.org/packages/68/ad/6c2406ae175f59ec616714e408979b674fe27b9587f79d59a528ddfbcd5b/seaborn-0.11.1-py3-none-any.whl\n",
            "Collecting numpy>=1.16.0\n",
            "  Using cached https://files.pythonhosted.org/packages/3f/03/c3526fb4e79a793498829ca570f2f868204ad9a8040afcd72d82a8f121db/numpy-1.21.0-cp37-cp37m-manylinux_2_12_x86_64.manylinux2010_x86_64.whl\n",
            "Collecting matplotlib>=3.2.0\n",
            "  Using cached https://files.pythonhosted.org/packages/24/33/5568d443ba438d95d4db635dd69958056f087e57e1026bee56f959d53f9d/matplotlib-3.4.2-cp37-cp37m-manylinux1_x86_64.whl\n",
            "Processing /root/.cache/pip/wheels/43/07/ac/7c5a9d708d65247ac1f94066cf1db075540b85716c30255459/htmlmin-0.1.12-cp37-none-any.whl\n",
            "Collecting pytz>=2017.3\n",
            "  Using cached https://files.pythonhosted.org/packages/70/94/784178ca5dd892a98f113cdd923372024dc04b8d40abe77ca76b5fb90ca6/pytz-2021.1-py2.py3-none-any.whl\n",
            "Collecting python-dateutil>=2.7.3\n",
            "  Using cached https://files.pythonhosted.org/packages/d4/70/d60450c3dd48ef87586924207ae8907090de0b306af2bce5d134d78615cb/python_dateutil-2.8.1-py2.py3-none-any.whl\n",
            "Collecting networkx>=2.4\n",
            "  Using cached https://files.pythonhosted.org/packages/f3/b7/c7f488101c0bb5e4178f3cde416004280fd40262433496830de8a8c21613/networkx-2.5.1-py3-none-any.whl\n",
            "Processing /root/.cache/pip/wheels/97/a9/12/41b13e8b44889ab05ec4dcc91f27da21634bacf2a0e87473b8/Bottleneck-1.3.2-cp37-cp37m-linux_x86_64.whl\n",
            "Collecting multimethod==1.4\n",
            "  Using cached https://files.pythonhosted.org/packages/7a/d0/ce5ad0392aa12645b7ad91a5983d6b625b704b021d9cd48c587630c1a9ac/multimethod-1.4-py2.py3-none-any.whl\n",
            "Collecting attrs>=19.3.0\n",
            "  Using cached https://files.pythonhosted.org/packages/20/a9/ba6f1cd1a1517ff022b35acd6a7e4246371dfab08b8e42b829b6d07913cc/attrs-21.2.0-py2.py3-none-any.whl\n",
            "Collecting Pillow; extra == \"type_image_path\"\n",
            "  Using cached https://files.pythonhosted.org/packages/33/34/542152297dcc6c47a9dcb0685eac6d652d878ed3cea83bf2b23cb988e857/Pillow-8.2.0-cp37-cp37m-manylinux1_x86_64.whl\n",
            "Collecting imagehash; extra == \"type_image_path\"\n",
            "  Using cached https://files.pythonhosted.org/packages/8e/18/9dbb772b5ef73a3069c66bb5bf29b9fb4dd57af0d5790c781c3f559bcca6/ImageHash-4.2.0-py2.py3-none-any.whl\n",
            "Collecting idna<3,>=2.5\n",
            "  Using cached https://files.pythonhosted.org/packages/a2/38/928ddce2273eaa564f6f50de919327bf3a00f091b5baba8dfa9460f3a8a8/idna-2.10-py2.py3-none-any.whl\n",
            "Collecting certifi>=2017.4.17\n",
            "  Using cached https://files.pythonhosted.org/packages/05/1b/0a0dece0e8aa492a6ec9e4ad2fe366b511558cdc73fd3abc82ba7348e875/certifi-2021.5.30-py2.py3-none-any.whl\n",
            "Collecting chardet<5,>=3.0.2\n",
            "  Using cached https://files.pythonhosted.org/packages/19/c7/fa589626997dd07bd87d9269342ccb74b1720384a4d739a1872bd84fbe68/chardet-4.0.0-py2.py3-none-any.whl\n",
            "Collecting urllib3<1.27,>=1.21.1\n",
            "  Using cached https://files.pythonhosted.org/packages/0c/cd/1e2ec680ec7b09846dc6e605f5a7709dfb9d7128e51a026e7154e18a234e/urllib3-1.26.5-py2.py3-none-any.whl\n",
            "Collecting typing-extensions>=3.7.4.3\n",
            "  Using cached https://files.pythonhosted.org/packages/2e/35/6c4fff5ab443b57116cb1aad46421fb719bed2825664e8fe77d66d99bcbc/typing_extensions-3.10.0.0-py3-none-any.whl\n",
            "Collecting MarkupSafe>=2.0\n",
            "  Using cached https://files.pythonhosted.org/packages/ad/cd/650b1be2a81674939ef962b1f1b956e4a84116d69708c842667445e95408/MarkupSafe-2.0.1-cp37-cp37m-manylinux2010_x86_64.whl\n",
            "Collecting pyparsing>=2.2.1\n",
            "  Using cached https://files.pythonhosted.org/packages/8a/bb/488841f56197b13700afd5658fc279a2025a39e22449b7cf29864669b15d/pyparsing-2.4.7-py2.py3-none-any.whl\n",
            "Collecting kiwisolver>=1.0.1\n",
            "  Using cached https://files.pythonhosted.org/packages/d2/46/231de802ade4225b76b96cffe419cf3ce52bbe92e3b092cf12db7d11c207/kiwisolver-1.3.1-cp37-cp37m-manylinux1_x86_64.whl\n",
            "Collecting cycler>=0.10\n",
            "  Using cached https://files.pythonhosted.org/packages/f7/d2/e07d3ebb2bd7af696440ce7e754c59dd546ffe1bbe732c8ab68b9c834e61/cycler-0.10.0-py2.py3-none-any.whl\n",
            "Collecting six>=1.5\n",
            "  Using cached https://files.pythonhosted.org/packages/d9/5a/e7c31adbe875f2abbb91bd84cf2dc52d792b5a01506781dbcf25c91daf11/six-1.16.0-py2.py3-none-any.whl\n",
            "Collecting decorator<5,>=4.3\n",
            "  Using cached https://files.pythonhosted.org/packages/ed/1b/72a1821152d07cf1d8b6fce298aeb06a7eb90f4d6d41acec9861e7cc6df0/decorator-4.4.2-py2.py3-none-any.whl\n",
            "Collecting PyWavelets\n",
            "  Using cached https://files.pythonhosted.org/packages/62/bd/592c7242fdd1218a96431512e77265c50812315ef72570ace85e1cfae298/PyWavelets-1.1.1-cp37-cp37m-manylinux1_x86_64.whl\n",
            "\u001b[31mERROR: tensorflow 2.5.0 has requirement numpy~=1.19.2, but you'll have numpy 1.21.0 which is incompatible.\u001b[0m\n",
            "\u001b[31mERROR: tensorflow 2.5.0 has requirement six~=1.15.0, but you'll have six 1.16.0 which is incompatible.\u001b[0m\n",
            "\u001b[31mERROR: tensorflow 2.5.0 has requirement typing-extensions~=3.7.4, but you'll have typing-extensions 3.10.0.0 which is incompatible.\u001b[0m\n",
            "\u001b[31mERROR: google-colab 1.0.0 has requirement pandas~=1.1.0; python_version >= \"3.0\", but you'll have pandas 1.2.5 which is incompatible.\u001b[0m\n",
            "\u001b[31mERROR: google-colab 1.0.0 has requirement requests~=2.23.0, but you'll have requests 2.25.1 which is incompatible.\u001b[0m\n",
            "\u001b[31mERROR: google-colab 1.0.0 has requirement six~=1.15.0, but you'll have six 1.16.0 which is incompatible.\u001b[0m\n",
            "\u001b[31mERROR: datascience 0.10.6 has requirement folium==0.2.1, but you'll have folium 0.8.3 which is incompatible.\u001b[0m\n",
            "\u001b[31mERROR: albumentations 0.1.12 has requirement imgaug<0.2.7,>=0.2.5, but you'll have imgaug 0.2.9 which is incompatible.\u001b[0m\n",
            "Installing collected packages: numpy, scipy, pytz, six, python-dateutil, pandas, joblib, pyparsing, kiwisolver, Pillow, cycler, matplotlib, phik, seaborn, missingno, decorator, networkx, bottleneck, multimethod, tangled-up-in-unicode, attrs, PyWavelets, imagehash, visions, idna, certifi, chardet, urllib3, requests, typing-extensions, pydantic, MarkupSafe, jinja2, tqdm, PyYAML, htmlmin, pandas-profiling\n",
            "Successfully installed MarkupSafe-2.0.1 Pillow-8.2.0 PyWavelets-1.1.1 PyYAML-5.4.1 attrs-21.2.0 bottleneck-1.3.2 certifi-2021.5.30 chardet-4.0.0 cycler-0.10.0 decorator-4.4.2 htmlmin-0.1.12 idna-2.10 imagehash-4.2.0 jinja2-3.0.1 joblib-1.0.1 kiwisolver-1.3.1 matplotlib-3.4.2 missingno-0.4.2 multimethod-1.4 networkx-2.5.1 numpy-1.21.0 pandas-1.2.5 pandas-profiling-3.0.0 phik-0.11.2 pydantic-1.8.2 pyparsing-2.4.7 python-dateutil-2.8.1 pytz-2021.1 requests-2.25.1 scipy-1.7.0 seaborn-0.11.1 six-1.16.0 tangled-up-in-unicode-0.1.0 tqdm-4.61.1 typing-extensions-3.10.0.0 urllib3-1.26.5 visions-0.7.1\n"
          ],
          "name": "stdout"
        },
        {
          "output_type": "display_data",
          "data": {
            "application/vnd.colab-display-data+json": {
              "pip_warning": {
                "packages": [
                  "PIL",
                  "bottleneck",
                  "certifi",
                  "chardet",
                  "cycler",
                  "dateutil",
                  "decorator",
                  "idna",
                  "kiwisolver",
                  "matplotlib",
                  "mpl_toolkits",
                  "numpy",
                  "pandas",
                  "pyparsing",
                  "pytz",
                  "requests",
                  "six",
                  "urllib3"
                ]
              }
            }
          },
          "metadata": {
            "tags": []
          }
        },
        {
          "output_type": "stream",
          "text": [
            "Collecting Flask-WTF\n",
            "  Using cached https://files.pythonhosted.org/packages/16/df/ba01a1d9a8b9d933c0e746c7ca015bfeee2b1e4e32f0527de3bbe6ac65a7/Flask_WTF-0.15.1-py2.py3-none-any.whl\n",
            "Collecting WTForms\n",
            "  Using cached https://files.pythonhosted.org/packages/e0/31/614fc7dc7d76005b0acb8c0c8920d962b83d7422b4ba912886dfb63f86ff/WTForms-2.3.3-py2.py3-none-any.whl\n",
            "Collecting itsdangerous\n",
            "  Using cached https://files.pythonhosted.org/packages/9c/96/26f935afba9cd6140216da5add223a0c465b99d0f112b68a4ca426441019/itsdangerous-2.0.1-py3-none-any.whl\n",
            "Collecting Flask\n",
            "  Using cached https://files.pythonhosted.org/packages/54/4f/1b294c1a4ab7b2ad5ca5fc4a9a65a22ef1ac48be126289d97668852d4ab3/Flask-2.0.1-py3-none-any.whl\n",
            "Collecting MarkupSafe\n",
            "  Using cached https://files.pythonhosted.org/packages/ad/cd/650b1be2a81674939ef962b1f1b956e4a84116d69708c842667445e95408/MarkupSafe-2.0.1-cp37-cp37m-manylinux2010_x86_64.whl\n",
            "Collecting click>=7.1.2\n",
            "  Using cached https://files.pythonhosted.org/packages/76/0a/b6c5f311e32aeb3b406e03c079ade51e905ea630fc19d1262a46249c1c86/click-8.0.1-py3-none-any.whl\n",
            "Collecting Jinja2>=3.0\n",
            "  Using cached https://files.pythonhosted.org/packages/80/21/ae597efc7ed8caaa43fb35062288baaf99a7d43ff0cf66452ddf47604ee6/Jinja2-3.0.1-py3-none-any.whl\n",
            "Collecting Werkzeug>=2.0\n",
            "  Using cached https://files.pythonhosted.org/packages/bd/24/11c3ea5a7e866bf2d97f0501d0b4b1c9bbeade102bb4b588f0d2919a5212/Werkzeug-2.0.1-py3-none-any.whl\n",
            "Collecting importlib-metadata; python_version < \"3.8\"\n",
            "  Using cached https://files.pythonhosted.org/packages/23/5d/f2151217058e7d5c5b4b584bc6052c2ae478c5a36b58a056364351613bfb/importlib_metadata-4.5.0-py3-none-any.whl\n",
            "Collecting typing-extensions>=3.6.4; python_version < \"3.8\"\n",
            "  Using cached https://files.pythonhosted.org/packages/2e/35/6c4fff5ab443b57116cb1aad46421fb719bed2825664e8fe77d66d99bcbc/typing_extensions-3.10.0.0-py3-none-any.whl\n",
            "Collecting zipp>=0.5\n",
            "  Using cached https://files.pythonhosted.org/packages/0f/8c/715c54e9e34c0c4820f616a913a7de3337d0cd79074dd1bed4dd840f16ae/zipp-3.4.1-py3-none-any.whl\n",
            "\u001b[31mERROR: tensorflow 2.5.0 has requirement numpy~=1.19.2, but you'll have numpy 1.21.0 which is incompatible.\u001b[0m\n",
            "\u001b[31mERROR: tensorflow 2.5.0 has requirement six~=1.15.0, but you'll have six 1.16.0 which is incompatible.\u001b[0m\n",
            "\u001b[31mERROR: tensorflow 2.5.0 has requirement typing-extensions~=3.7.4, but you'll have typing-extensions 3.10.0.0 which is incompatible.\u001b[0m\n",
            "\u001b[31mERROR: google-colab 1.0.0 has requirement pandas~=1.1.0; python_version >= \"3.0\", but you'll have pandas 1.2.5 which is incompatible.\u001b[0m\n",
            "\u001b[31mERROR: google-colab 1.0.0 has requirement requests~=2.23.0, but you'll have requests 2.25.1 which is incompatible.\u001b[0m\n",
            "\u001b[31mERROR: google-colab 1.0.0 has requirement six~=1.15.0, but you'll have six 1.16.0 which is incompatible.\u001b[0m\n",
            "\u001b[31mERROR: datascience 0.10.6 has requirement folium==0.2.1, but you'll have folium 0.8.3 which is incompatible.\u001b[0m\n",
            "Installing collected packages: MarkupSafe, WTForms, itsdangerous, typing-extensions, zipp, importlib-metadata, click, Jinja2, Werkzeug, Flask, Flask-WTF\n",
            "Successfully installed Flask-2.0.1 Flask-WTF-0.15.1 Jinja2-3.0.1 MarkupSafe-2.0.1 WTForms-2.3.3 Werkzeug-2.0.1 click-8.0.1 importlib-metadata-4.5.0 itsdangerous-2.0.1 typing-extensions-3.10.0.0 zipp-3.4.1\n"
          ],
          "name": "stdout"
        }
      ]
    },
    {
      "cell_type": "code",
      "metadata": {
        "colab": {
          "base_uri": "https://localhost:8080/"
        },
        "id": "QoIOzXZTgXoo",
        "outputId": "4f63c1c2-1c3c-4879-e7be-6b2af62efff8"
      },
      "source": [
        "from flask import Flask,request,send_file\n",
        "from flask_ngrok import run_with_ngrok\n",
        "from wtforms import StringField, validators\n",
        "from flask_wtf import Form\n",
        "\n",
        "app = Flask(__name__)\n",
        "\n",
        "run_with_ngrok(app)   \n",
        "\n",
        "class APIInputValidator(Form):\n",
        "  admission_csv_path = StringField('admission_csv_path', [validators.DataRequired()])\n",
        "  notes_csv_path = StringField('notes_csv_path', [validators.DataRequired()])\n",
        "  patient_mapping_csv_path = StringField('patient_mapping_csv_path', [validators.DataRequired()])\n",
        "  processesed_data_csv_path = StringField('processesed_data_csv_path', [validators.DataRequired()])\n",
        "@app.route(\"/\")\n",
        "def home():\n",
        "    return \"<h1>ML Based Data Process App</h1>\"\n",
        "\n",
        "@app.route('/processPatientData', methods = ['POST'])\n",
        "def processPatientData():\n",
        "  #try:\n",
        "    csv_files = dict()\n",
        "    form = APIInputValidator(request.form, csrf_enabled=False)\n",
        "    if request.method == 'POST' and form.validate_on_submit():\n",
        "      csv_files['admission_csv_path'] = request.form['admission_csv_path']\n",
        "      csv_files['notes_csv_path'] = request.form['notes_csv_path']\n",
        "      csv_files['patient_mapping_csv_path'] = request.form['patient_mapping_csv_path']\n",
        "      csv_files['processesed_data_csv_path'] = request.form['processesed_data_csv_path']\n",
        "      formated_dataframe = processColumnInPatientDataFiles(csv_files)\n",
        "      formated_dataframe.to_csv('patient_consolidated_data.csv')\n",
        "      return send_file('patient_consolidated_data.csv')\n",
        "    else:\n",
        "      return \"Invalid input\"\n",
        "  #except Exception as e:\n",
        "      #return str(e)\n",
        "app.run()\n",
        "\n",
        "#Data Processing Algorithm\n",
        "import pandas as pd\n",
        "import numpy as np\n",
        "\n",
        "#CSV File Column Validation Colection\n",
        "admission_validate = ['id', 'citizen_number', 'admission_date', 'admision_type', 'discharge_date', 'admission_notes']\n",
        "notes_validate = ['id',\t'first_name',\t'last_name',\t'reg_number',\t'doctors_note',\t'remarks']\n",
        "proccessed_data_validate = ['id',\t'processed_by',\t'patient_number',\t'admission_date',\t'admission_time',\t'admission_type',\t'final_notes',\t'final_remarks']\n",
        "patient_mapping_validate= ['citizen_number',\t'patient_number']\n",
        "\n",
        "def processColumnInPatientDataFiles(files):\n",
        "  #Load All Files\n",
        "  admission=pd.read_csv(files[\"admission_csv_path\"])\n",
        "  notes=pd.read_csv(files[\"notes_csv_path\"])\n",
        "  patient_mapping=pd.read_csv(files[\"patient_mapping_csv_path\"])\n",
        "  proccessed_data=pd.read_csv(files[\"processesed_data_csv_path\"])\n",
        "  #Validate files for all coulmn exists\n",
        "  if admission_validate != [c for c in admission.columns]:\n",
        "      return 'Patient Admission has invalid columns'\n",
        "  if notes_validate != [c for c in notes.columns]:\n",
        "      return 'Patient Notes has invalid columns'\n",
        "  if patient_mapping_validate != [c for c in patient_mapping.columns]:\n",
        "      return 'Patient Mapping has invalid columns'\n",
        "  if proccessed_data_validate != [c for c in proccessed_data.columns]:\n",
        "      return 'Patient Processed Data has invalid columns'\n",
        "  \"\"\"## Make formatted dataframe\"\"\"\n",
        "\n",
        "  formated_dataframe=notes\n",
        "\n",
        "  \"\"\"### Get patient number and other info from registration number\"\"\"\n",
        "\n",
        "  formated_dataframe['dept']= [dpt[0:2] for dpt in formated_dataframe[\"reg_number\"].to_list()]\n",
        "  formated_dataframe['patient_number']= [dpt[2:8] for dpt in formated_dataframe[\"reg_number\"].to_list()]\n",
        "  formated_dataframe['visit_year']= [dpt[8:] for dpt in formated_dataframe[\"reg_number\"].to_list()]\n",
        "  formated_dataframe['patient_number']=formated_dataframe['patient_number'].astype('int64')\n",
        "  \"\"\"### Map citizen number on patient numbner\"\"\"\n",
        "  formated_dataframe=pd.merge(formated_dataframe, patient_mapping, on=\"patient_number\")\n",
        "\n",
        "  \"\"\"### map tables based on patient id\"\"\"\n",
        "  formated_dataframe=pd.merge(formated_dataframe, proccessed_data[['processed_by',\t'patient_number',\t'admission_date',\t'admission_time',\t'admission_type',\t'final_notes',\t'final_remarks']], on=\"patient_number\")\n",
        "  formated_dataframe = formated_dataframe.rename({'admission_date': 'proccessed_admission_date', 'admission_time': 'proccessed_admission_time','admission_type':'proccessed_admission_type'}, axis='columns')\n",
        "\n",
        "  \"\"\"### map remaining tables based on citizen_number\"\"\"\n",
        "\n",
        "  formated_dataframe=pd.merge(formated_dataframe, admission[['citizen_number', 'admission_date', 'admision_type', 'discharge_date', 'admission_notes']], on=\"citizen_number\")\n",
        "  formated_dataframe\n",
        "\n",
        "  \"\"\"### process and explore admission and processed admission date \"\"\"\n",
        "\n",
        "  #convert to datetime object\n",
        "  formated_dataframe['proccessed_admission_date'] =  pd.to_datetime(formated_dataframe['proccessed_admission_date']).dt.date\n",
        "  formated_dataframe['admission_date'] =  pd.to_datetime(formated_dataframe['admission_date']).dt.date\n",
        "\n",
        "  \"\"\" if admission type equal procceesed admision type, del duplicate coliumn\"\"\"\n",
        "\n",
        "  if formated_dataframe['proccessed_admission_type'].equals(formated_dataframe['admision_type']):\n",
        "    del formated_dataframe['proccessed_admission_type']\n",
        "\n",
        "  \"\"\"### check where proccessed date is not equal date \"\"\"\n",
        "\n",
        "  formated_dataframe['proccessed_admission_date'].equals(formated_dataframe['admission_date'])\n",
        "\n",
        "  formated_dataframe['proccessed_admission_date'].where(formated_dataframe['proccessed_admission_date']!=formated_dataframe['admission_date']).unique()\n",
        "\n",
        "  \"\"\"this mean all the rows in the processed date are equal to admission date except where nan, which mean unproccessed patients. hence add a boolean column that patient is proccesed or not \"\"\"\n",
        "\n",
        "  formated_dataframe['proccessed_admission_date']==formated_dataframe['admission_date']\n",
        "\n",
        "  formated_dataframe['is_patient_proccessed']=(formated_dataframe['proccessed_admission_date']==formated_dataframe['admission_date']).to_list()\n",
        "  del formated_dataframe['proccessed_admission_date']\n",
        "  return formated_dataframe"
      ],
      "execution_count": null,
      "outputs": [
        {
          "output_type": "stream",
          "text": [
            " * Serving Flask app '__main__' (lazy loading)\n",
            " * Environment: production\n",
            "\u001b[31m   WARNING: This is a development server. Do not use it in a production deployment.\u001b[0m\n",
            "\u001b[2m   Use a production WSGI server instead.\u001b[0m\n",
            " * Debug mode: off\n"
          ],
          "name": "stdout"
        },
        {
          "output_type": "stream",
          "text": [
            " * Running on http://127.0.0.1:5000/ (Press CTRL+C to quit)\n"
          ],
          "name": "stderr"
        },
        {
          "output_type": "stream",
          "text": [
            " * Running on http://63734398da3f.ngrok.io\n",
            " * Traffic stats available on http://127.0.0.1:4040\n"
          ],
          "name": "stdout"
        },
        {
          "output_type": "stream",
          "text": [
            "/usr/local/lib/python3.7/dist-packages/ipykernel_launcher.py:23: FlaskWTFDeprecationWarning: \"flask_wtf.Form\" has been renamed to \"FlaskForm\" and will be removed in 1.0.\n",
            "127.0.0.1 - - [24/Jun/2021 00:00:48] \"POST /processPatientData HTTP/1.1\" 200 -\n"
          ],
          "name": "stderr"
        }
      ]
    },
    {
      "cell_type": "code",
      "metadata": {
        "id": "d4cM64Z6k5TY"
      },
      "source": [
        ""
      ],
      "execution_count": null,
      "outputs": []
    }
  ]
}